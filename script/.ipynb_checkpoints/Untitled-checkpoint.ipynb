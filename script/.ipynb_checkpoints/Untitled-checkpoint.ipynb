{
 "cells": [
  {
   "cell_type": "code",
   "execution_count": 1,
   "metadata": {},
   "outputs": [],
   "source": [
    "import numpy as np\n",
    "import matplotlib.pyplot as plt\n",
    "import gzip\n",
    "import json\n",
    "import base64\n",
    "import subprocess\n",
    "import copy\n",
    "import os\n",
    "import sys\n",
    "from scipy.spatial.transform import Rotation as R\n",
    "import subprocess\n",
    "import skimage.color\n",
    "from scipy.interpolate import interp1d, interp2d\n",
    "import io\n",
    "from PIL import Image\n",
    "import pickle"
   ]
  },
  {
   "cell_type": "markdown",
   "metadata": {},
   "source": [
    "## Simulating X-ray scan"
   ]
  },
  {
   "cell_type": "code",
   "execution_count": 2,
   "metadata": {},
   "outputs": [],
   "source": [
    "def load_json_img(obj):\n",
    "    if obj.get('type', '') != 'image':\n",
    "        raise RuntimeError('object is not an image')\n",
    "    data = base64.b64decode(obj['data'])\n",
    "    uncomp_data = gzip.decompress(data)\n",
    "    if obj['element_size'] == 4:\n",
    "        dtype = np.float32\n",
    "    elif obj['element_size'] == 8:\n",
    "        dtype = np.float64\n",
    "    else:\n",
    "        raise RuntimeError('unsupported element type')\n",
    "    img = np.frombuffer(uncomp_data, dtype).reshape((obj['rows'], obj['cols']))\n",
    "    return img"
   ]
  },
  {
   "cell_type": "code",
   "execution_count": 3,
   "metadata": {},
   "outputs": [],
   "source": [
    "config_template = {\n",
    "    'camera' : {\n",
    "        'z' : 5.0,\n",
    "        'rows' : 300,\n",
    "        'cols' : 600,\n",
    "        'pixel_size' : 0.007\n",
    "    },\n",
    "    'global_transformation' : np.eye(3).flatten().tolist(),\n",
    "    'intensity' : 1.0,\n",
    "    'objects' : []\n",
    "}\n",
    "\n",
    "def get_sphere_object(center, radius, mu, transformation=np.eye(3)):\n",
    "    return {\n",
    "        'type' : 'object',\n",
    "        'shape' : 'sphere',\n",
    "        'center' : np.asarray(center).tolist(),\n",
    "        'radius' : radius,\n",
    "        'mu' : mu,\n",
    "        'transformation' : transformation.flatten().tolist()\n",
    "    }\n",
    "\n",
    "\n",
    "def get_cube_object(center, length, mu, transformation=np.eye(3)):\n",
    "    return {\n",
    "        'type' : 'object',\n",
    "        'shape' : 'cube',\n",
    "        'center' : np.asarray(center).tolist(),\n",
    "        'length' : length,\n",
    "        'mu' : mu,\n",
    "        'transformation' : transformation.flatten().tolist()\n",
    "    }\n",
    "\n",
    "def get_config(objects):\n",
    "    config = copy.deepcopy(config_template)\n",
    "    config['objects'] = copy.copy(objects)\n",
    "    return config"
   ]
  },
  {
   "cell_type": "code",
   "execution_count": 4,
   "metadata": {},
   "outputs": [],
   "source": [
    "# calling ray tracer to generate X-ray frames\n",
    "tf1 = np.eye(3)\n",
    "tf1[0,0] = 2.0\n",
    "tf1 = tf1 @ R.from_rotvec(np.deg2rad(45.0) * np.array([0, 0, 0])).as_matrix()\n",
    "tf2 = np.eye(3)\n",
    "tf2[1,1] = 1.5\n",
    "tf2 = R.from_rotvec(np.deg2rad(45.0) * np.array([1, 1, 0])).as_matrix() @ tf2\n",
    "\n",
    "config = get_config([\n",
    "    get_sphere_object([-0.5, 0.0, 0.0], 0.5, 1.8, tf1),\n",
    "    get_cube_object([1.0, 0.0, 0.0], 0.6, 1.0, tf2)\n",
    "])\n",
    "\n",
    "bin_filename = os.path.realpath('../raytracer/bin/ct_raytracer')\n",
    "assert(os.path.exists(bin_filename))\n",
    "input_filename = os.path.realpath('config.json')\n",
    "output_filename = os.path.realpath('output.json')\n",
    "\n",
    "xray_frames = []\n",
    "# generate x-ray scan for all 360 degrees for video demo\n",
    "all_rotation_angles = np.deg2rad(np.linspace(0.0, 360.0, 121))\n",
    "\n",
    "for angle in all_rotation_angles:\n",
    "    r = R.from_rotvec(angle * np.array([0, 1, 0])).as_matrix().flatten().tolist()\n",
    "    config['global_transformation'] = r\n",
    "\n",
    "    with open(input_filename, 'w') as outfile:\n",
    "        json.dump(config, outfile)\n",
    "\n",
    "    cmd_args = [bin_filename, input_filename, output_filename]\n",
    "    #print(' '.join(cmd_args))\n",
    "    cp = subprocess.run(cmd_args, capture_output=True)\n",
    "    if cp.returncode != 0:\n",
    "        raise RuntimeError(cp.stderr.decode('utf8'))\n",
    "\n",
    "    with open(output_filename, 'r') as infile:\n",
    "        obj = json.load(infile)\n",
    "    img = load_json_img(obj['image'])\n",
    "    xray_frames.append(img)"
   ]
  },
  {
   "cell_type": "code",
   "execution_count": 5,
   "metadata": {},
   "outputs": [],
   "source": [
    "def std_frames(frames):\n",
    "    new_frames = []\n",
    "    for frame in frames:\n",
    "        if len(frame.shape) == 2:\n",
    "            frame = skimage.color.gray2rgb(frame)\n",
    "        if frame.shape[2] == 4:\n",
    "            frame = skimage.color.rgba2rgb(frame)\n",
    "        if(frame.dtype != np.uint8):\n",
    "            frame = (frame * 255.0).astype(np.uint8)\n",
    "        new_frames.append(frame)\n",
    "    return new_frames\n",
    "\n",
    "def save_mp4_video(frames, output, rate=30):\n",
    "    frames = std_frames(frames)\n",
    "    vsize = frames[0].shape\n",
    "    p = subprocess.Popen(['ffmpeg', '-y', '-f', 'rawvideo', '-pix_fmt', 'rgb24', '-r', str(rate), \n",
    "                        '-s', '{}x{}'.format(vsize[1], vsize[0]), '-i', '-', '-c:v', 'libx264', \n",
    "                        '-crf', '20', '-preset', 'medium', \n",
    "                        '-an', output], stdout=subprocess.PIPE, stderr=subprocess.PIPE, stdin=subprocess.PIPE)\n",
    "    for img in frames:\n",
    "        p.stdin.write(img.tobytes())\n",
    "    stdout, stderr = p.communicate()\n",
    "    print(stderr.decode('utf8'))\n",
    "    \n",
    "def save_gif_video(frames, output, rate=30):\n",
    "    frames = std_frames(frames)\n",
    "    vsize = frames[0].shape\n",
    "    p = subprocess.Popen(['ffmpeg', '-y', '-f', 'rawvideo', '-pix_fmt', 'rgb24', '-r', str(rate), \n",
    "                        '-s', '{}x{}'.format(vsize[1], vsize[0]), '-i', '-',output], \n",
    "                         stdout=subprocess.PIPE, stderr=subprocess.PIPE, stdin=subprocess.PIPE)\n",
    "    for img in frames:\n",
    "        p.stdin.write(img.tobytes())\n",
    "    stdout, stderr = p.communicate()\n",
    "    print(stderr.decode('utf8'))"
   ]
  },
  {
   "cell_type": "code",
   "execution_count": 6,
   "metadata": {},
   "outputs": [
    {
     "name": "stdout",
     "output_type": "stream",
     "text": [
      "ffmpeg version 4.2.4-1ubuntu0.1 Copyright (c) 2000-2020 the FFmpeg developers\n",
      "  built with gcc 9 (Ubuntu 9.3.0-10ubuntu2)\n",
      "  configuration: --prefix=/usr --extra-version=1ubuntu0.1 --toolchain=hardened --libdir=/usr/lib/x86_64-linux-gnu --incdir=/usr/include/x86_64-linux-gnu --arch=amd64 --enable-gpl --disable-stripping --enable-avresample --disable-filter=resample --enable-avisynth --enable-gnutls --enable-ladspa --enable-libaom --enable-libass --enable-libbluray --enable-libbs2b --enable-libcaca --enable-libcdio --enable-libcodec2 --enable-libflite --enable-libfontconfig --enable-libfreetype --enable-libfribidi --enable-libgme --enable-libgsm --enable-libjack --enable-libmp3lame --enable-libmysofa --enable-libopenjpeg --enable-libopenmpt --enable-libopus --enable-libpulse --enable-librsvg --enable-librubberband --enable-libshine --enable-libsnappy --enable-libsoxr --enable-libspeex --enable-libssh --enable-libtheora --enable-libtwolame --enable-libvidstab --enable-libvorbis --enable-libvpx --enable-libwavpack --enable-libwebp --enable-libx265 --enable-libxml2 --enable-libxvid --enable-libzmq --enable-libzvbi --enable-lv2 --enable-omx --enable-openal --enable-opencl --enable-opengl --enable-sdl2 --enable-libdc1394 --enable-libdrm --enable-libiec61883 --enable-nvenc --enable-chromaprint --enable-frei0r --enable-libx264 --enable-shared\n",
      "  libavutil      56. 31.100 / 56. 31.100\n",
      "  libavcodec     58. 54.100 / 58. 54.100\n",
      "  libavformat    58. 29.100 / 58. 29.100\n",
      "  libavdevice    58.  8.100 / 58.  8.100\n",
      "  libavfilter     7. 57.100 /  7. 57.100\n",
      "  libavresample   4.  0.  0 /  4.  0.  0\n",
      "  libswscale      5.  5.100 /  5.  5.100\n",
      "  libswresample   3.  5.100 /  3.  5.100\n",
      "  libpostproc    55.  5.100 / 55.  5.100\n",
      "Input #0, rawvideo, from 'pipe:':\n",
      "  Duration: N/A, start: 0.000000, bitrate: 129600 kb/s\n",
      "    Stream #0:0: Video: rawvideo (RGB[24] / 0x18424752), rgb24, 600x300, 129600 kb/s, 30 tbr, 30 tbn, 30 tbc\n",
      "Stream mapping:\n",
      "  Stream #0:0 -> #0:0 (rawvideo (native) -> h264 (libx264))\n",
      "[swscaler @ 0x55f505f6c340] Warning: data is not aligned! This can lead to a speed loss\n",
      "[libx264 @ 0x55f505f59a00] using cpu capabilities: MMX2 SSE2Fast SSSE3 SSE4.2 AVX FMA3 BMI2 AVX2\n",
      "[libx264 @ 0x55f505f59a00] profile High 4:4:4 Predictive, level 3.0, 4:4:4 8-bit\n",
      "[libx264 @ 0x55f505f59a00] 264 - core 155 r2917 0a84d98 - H.264/MPEG-4 AVC codec - Copyleft 2003-2018 - http://www.videolan.org/x264.html - options: cabac=1 ref=3 deblock=1:0:0 analyse=0x1:0x111 me=hex subme=7 psy=1 psy_rd=1.00:0.00 mixed_ref=1 me_range=16 chroma_me=1 trellis=1 8x8dct=0 cqm=0 deadzone=21,11 fast_pskip=1 chroma_qp_offset=4 threads=9 lookahead_threads=1 sliced_threads=0 nr=0 decimate=1 interlaced=0 bluray_compat=0 constrained_intra=0 bframes=3 b_pyramid=2 b_adapt=1 b_bias=0 direct=1 weightb=1 open_gop=0 weightp=2 keyint=250 keyint_min=25 scenecut=40 intra_refresh=0 rc_lookahead=40 rc=crf mbtree=1 crf=20.0 qcomp=0.60 qpmin=0 qpmax=69 qpstep=4 ip_ratio=1.40 aq=1:1.00\n",
      "Output #0, mp4, to 'xray.mp4':\n",
      "  Metadata:\n",
      "    encoder         : Lavf58.29.100\n",
      "    Stream #0:0: Video: h264 (libx264) (avc1 / 0x31637661), yuv444p, 600x300, q=-1--1, 30 fps, 15360 tbn, 30 tbc\n",
      "    Metadata:\n",
      "      encoder         : Lavc58.54.100 libx264\n",
      "    Side data:\n",
      "      cpb: bitrate max/min/avg: 0/0/0 buffer size: 0 vbv_delay: -1\n",
      "frame=  121 fps=0.0 q=-1.0 Lsize=      53kB time=00:00:03.93 bitrate= 111.4kbits/s speed=22.6x    \n",
      "video:51kB audio:0kB subtitle:0kB other streams:0kB global headers:0kB muxing overhead: 4.229774%\n",
      "[libx264 @ 0x55f505f59a00] frame I:1     Avg QP:10.97  size:  2075\n",
      "[libx264 @ 0x55f505f59a00] frame P:33    Avg QP:14.27  size:   751\n",
      "[libx264 @ 0x55f505f59a00] frame B:87    Avg QP:19.20  size:   287\n",
      "[libx264 @ 0x55f505f59a00] consecutive B-frames:  0.8%  3.3% 19.8% 76.0%\n",
      "[libx264 @ 0x55f505f59a00] mb I  I16..4: 81.7%  0.0% 18.3%\n",
      "[libx264 @ 0x55f505f59a00] mb P  I16..4:  6.2%  0.0%  3.5%  P16..4:  7.7%  4.1%  0.8%  0.0%  0.0%    skip:77.7%\n",
      "[libx264 @ 0x55f505f59a00] mb B  I16..4:  0.3%  0.0%  0.2%  B16..8: 13.4%  1.7%  0.1%  direct: 0.2%  skip:84.2%  L0:45.8% L1:43.3% BI:10.9%\n",
      "[libx264 @ 0x55f505f59a00] coded y,u,v intra: 17.4% 0.0% 0.0% inter: 0.8% 0.0% 0.0%\n",
      "[libx264 @ 0x55f505f59a00] i16 v,h,dc,p: 63%  7%  5% 26%\n",
      "[libx264 @ 0x55f505f59a00] i4 v,h,dc,ddl,ddr,vr,hd,vl,hu: 15% 11% 24%  9% 16% 10%  6%  6%  2%\n",
      "[libx264 @ 0x55f505f59a00] Weighted P-Frames: Y:0.0% UV:0.0%\n",
      "[libx264 @ 0x55f505f59a00] ref P L0: 77.5%  5.4% 13.5%  3.5%\n",
      "[libx264 @ 0x55f505f59a00] ref B L0: 91.2%  7.9%  0.9%\n",
      "[libx264 @ 0x55f505f59a00] ref B L1: 98.5%  1.5%\n",
      "[libx264 @ 0x55f505f59a00] kb/s:102.88\n",
      "\n"
     ]
    }
   ],
   "source": [
    "save_mp4_video(xray_frames, 'xray.mp4')"
   ]
  },
  {
   "cell_type": "markdown",
   "metadata": {},
   "source": [
    "## Generate projection integral for each slice"
   ]
  },
  {
   "cell_type": "code",
   "execution_count": 7,
   "metadata": {},
   "outputs": [],
   "source": [
    "# interpolated radon transform functions\n",
    "radon_slices = []\n",
    "num_slices = xray_frames[0].shape[0]\n",
    "# standardize radius to 0-1\n",
    "radius_values = np.linspace(-1, 1, xray_frames[0].shape[1])\n",
    "\n",
    "for i in range(num_slices):\n",
    "    cols = [arr[i,...].squeeze() for arr in xray_frames]\n",
    "    cols = np.asarray(cols)\n",
    "    # use projection integral approximation\n",
    "    proj_int = -np.log(cols / config['intensity'])\n",
    "    interp = interp2d(radius_values, all_rotation_angles, proj_int)\n",
    "    radon_slices.append(interp)"
   ]
  },
  {
   "cell_type": "code",
   "execution_count": 8,
   "metadata": {},
   "outputs": [
    {
     "data": {
      "image/png": "[encoded data removed]",
      "text/plain": [
       "<Figure size 432x288 with 1 Axes>"
      ]
     },
     "metadata": {},
     "output_type": "display_data"
    }
   ],
   "source": [
    "# generate a sinogram for 150th slice\n",
    "sli = radon_slices[150]\n",
    "angles = np.linspace(0.0,  np.pi, 60)\n",
    "radius = np.linspace(-1.0, 1.0, 100)\n",
    "result = sli(radius, angles)\n",
    "\n",
    "plt.imshow(result, cmap='gray')\n",
    "plt.title('The Sinogram of 150th Slice')\n",
    "plt.ylabel(r'$\\theta$')\n",
    "plt.xlabel('$r$')\n",
    "plt.xticks([])\n",
    "plt.yticks([])\n",
    "plt.show()"
   ]
  },
  {
   "cell_type": "code",
   "execution_count": 9,
   "metadata": {},
   "outputs": [],
   "source": [
    "# generate a video for 150th slice\n",
    "sli = radon_slices[150]\n",
    "angles = np.linspace(0.0, 2.0 * np.pi, 121)\n",
    "radius = np.linspace(-1.0, 1.0, 100)\n",
    "result = sli(radius, angles)\n",
    "\n",
    "slice_plots = []\n",
    "\n",
    "for i in range(result.shape[0]):\n",
    "    plt.plot(radius, result[i, ...])\n",
    "    plt.text(0.65, 1.5, r'$\\theta={:.2f}^{{\\circ}}$'.format(np.rad2deg(angles[i])), \n",
    "            ha='left')\n",
    "    plt.ylim(0.0, result.max())\n",
    "    ax = plt.gca()\n",
    "    ax.fill_between(radius, 0.0, result[i, ...])\n",
    "    plt.tight_layout()\n",
    "    fig_io = io.BytesIO()\n",
    "    plt.title('Projection Integral')\n",
    "    plt.savefig(fig_io, format='png', dpi=100)\n",
    "    plt.close()\n",
    "    plot_img = Image.open(fig_io)\n",
    "    slice_plots.append(np.asarray(plot_img))"
   ]
  },
  {
   "cell_type": "code",
   "execution_count": 10,
   "metadata": {},
   "outputs": [
    {
     "name": "stdout",
     "output_type": "stream",
     "text": [
      "ffmpeg version 4.2.4-1ubuntu0.1 Copyright (c) 2000-2020 the FFmpeg developers\n",
      "  built with gcc 9 (Ubuntu 9.3.0-10ubuntu2)\n",
      "  configuration: --prefix=/usr --extra-version=1ubuntu0.1 --toolchain=hardened --libdir=/usr/lib/x86_64-linux-gnu --incdir=/usr/include/x86_64-linux-gnu --arch=amd64 --enable-gpl --disable-stripping --enable-avresample --disable-filter=resample --enable-avisynth --enable-gnutls --enable-ladspa --enable-libaom --enable-libass --enable-libbluray --enable-libbs2b --enable-libcaca --enable-libcdio --enable-libcodec2 --enable-libflite --enable-libfontconfig --enable-libfreetype --enable-libfribidi --enable-libgme --enable-libgsm --enable-libjack --enable-libmp3lame --enable-libmysofa --enable-libopenjpeg --enable-libopenmpt --enable-libopus --enable-libpulse --enable-librsvg --enable-librubberband --enable-libshine --enable-libsnappy --enable-libsoxr --enable-libspeex --enable-libssh --enable-libtheora --enable-libtwolame --enable-libvidstab --enable-libvorbis --enable-libvpx --enable-libwavpack --enable-libwebp --enable-libx265 --enable-libxml2 --enable-libxvid --enable-libzmq --enable-libzvbi --enable-lv2 --enable-omx --enable-openal --enable-opencl --enable-opengl --enable-sdl2 --enable-libdc1394 --enable-libdrm --enable-libiec61883 --enable-nvenc --enable-chromaprint --enable-frei0r --enable-libx264 --enable-shared\n",
      "  libavutil      56. 31.100 / 56. 31.100\n",
      "  libavcodec     58. 54.100 / 58. 54.100\n",
      "  libavformat    58. 29.100 / 58. 29.100\n",
      "  libavdevice    58.  8.100 / 58.  8.100\n",
      "  libavfilter     7. 57.100 /  7. 57.100\n",
      "  libavresample   4.  0.  0 /  4.  0.  0\n",
      "  libswscale      5.  5.100 /  5.  5.100\n",
      "  libswresample   3.  5.100 /  3.  5.100\n",
      "  libpostproc    55.  5.100 / 55.  5.100\n",
      "Input #0, rawvideo, from 'pipe:':\n",
      "  Duration: N/A, start: 0.000000, bitrate: 172800 kb/s\n",
      "    Stream #0:0: Video: rawvideo (RGB[24] / 0x18424752), rgb24, 600x400, 172800 kb/s, 30 tbr, 30 tbn, 30 tbc\n",
      "Stream mapping:\n",
      "  Stream #0:0 -> #0:0 (rawvideo (native) -> h264 (libx264))\n",
      "[swscaler @ 0x55c1f5b81340] Warning: data is not aligned! This can lead to a speed loss\n",
      "[libx264 @ 0x55c1f5b6ea00] using cpu capabilities: MMX2 SSE2Fast SSSE3 SSE4.2 AVX FMA3 BMI2 AVX2\n",
      "[libx264 @ 0x55c1f5b6ea00] profile High 4:4:4 Predictive, level 3.0, 4:4:4 8-bit\n",
      "[libx264 @ 0x55c1f5b6ea00] 264 - core 155 r2917 0a84d98 - H.264/MPEG-4 AVC codec - Copyleft 2003-2018 - http://www.videolan.org/x264.html - options: cabac=1 ref=3 deblock=1:0:0 analyse=0x1:0x111 me=hex subme=7 psy=1 psy_rd=1.00:0.00 mixed_ref=1 me_range=16 chroma_me=1 trellis=1 8x8dct=0 cqm=0 deadzone=21,11 fast_pskip=1 chroma_qp_offset=4 threads=12 lookahead_threads=2 sliced_threads=0 nr=0 decimate=1 interlaced=0 bluray_compat=0 constrained_intra=0 bframes=3 b_pyramid=2 b_adapt=1 b_bias=0 direct=1 weightb=1 open_gop=0 weightp=2 keyint=250 keyint_min=25 scenecut=40 intra_refresh=0 rc_lookahead=40 rc=crf mbtree=1 crf=20.0 qcomp=0.60 qpmin=0 qpmax=69 qpstep=4 ip_ratio=1.40 aq=1:1.00\n",
      "Output #0, mp4, to 'projection_integral.mp4':\n",
      "  Metadata:\n",
      "    encoder         : Lavf58.29.100\n",
      "    Stream #0:0: Video: h264 (libx264) (avc1 / 0x31637661), yuv444p, 600x400, q=-1--1, 30 fps, 15360 tbn, 30 tbc\n",
      "    Metadata:\n",
      "      encoder         : Lavc58.54.100 libx264\n",
      "    Side data:\n",
      "      cpb: bitrate max/min/avg: 0/0/0 buffer size: 0 vbv_delay: -1\n",
      "frame=  121 fps=0.0 q=-1.0 Lsize=      65kB time=00:00:03.93 bitrate= 135.2kbits/s speed=20.5x    \n",
      "video:63kB audio:0kB subtitle:0kB other streams:0kB global headers:0kB muxing overhead: 3.538831%\n",
      "[libx264 @ 0x55c1f5b6ea00] frame I:1     Avg QP: 9.48  size:  6942\n",
      "[libx264 @ 0x55c1f5b6ea00] frame P:31    Avg QP:14.80  size:   840\n",
      "[libx264 @ 0x55c1f5b6ea00] frame B:89    Avg QP:23.50  size:   343\n",
      "[libx264 @ 0x55c1f5b6ea00] consecutive B-frames:  0.8%  1.7%  5.0% 92.6%\n",
      "[libx264 @ 0x55c1f5b6ea00] mb I  I16..4: 84.4%  0.0% 15.6%\n",
      "[libx264 @ 0x55c1f5b6ea00] mb P  I16..4:  3.0%  0.0%  0.7%  P16..4:  3.1%  2.9%  0.8%  0.0%  0.0%    skip:89.6%\n",
      "[libx264 @ 0x55c1f5b6ea00] mb B  I16..4:  0.0%  0.0%  0.0%  B16..8:  7.1%  2.5%  0.2%  direct: 0.1%  skip:90.0%  L0:48.6% L1:44.7% BI: 6.7%\n",
      "[libx264 @ 0x55c1f5b6ea00] coded y,u,v intra: 8.6% 3.8% 3.8% inter: 0.6% 0.1% 0.1%\n",
      "[libx264 @ 0x55c1f5b6ea00] i16 v,h,dc,p: 82% 16%  2%  0%\n",
      "[libx264 @ 0x55c1f5b6ea00] i4 v,h,dc,ddl,ddr,vr,hd,vl,hu: 24% 20% 41%  3%  2%  4%  1%  3%  2%\n",
      "[libx264 @ 0x55c1f5b6ea00] Weighted P-Frames: Y:0.0% UV:0.0%\n",
      "[libx264 @ 0x55c1f5b6ea00] ref P L0: 62.0%  1.6% 24.2% 12.3%\n",
      "[libx264 @ 0x55c1f5b6ea00] ref B L0: 82.9% 13.6%  3.5%\n",
      "[libx264 @ 0x55c1f5b6ea00] ref B L1: 94.1%  5.9%\n",
      "[libx264 @ 0x55c1f5b6ea00] kb/s:125.98\n",
      "\n"
     ]
    }
   ],
   "source": [
    "save_mp4_video(slice_plots, 'projection_integral.mp4')"
   ]
  },
  {
   "cell_type": "markdown",
   "metadata": {},
   "source": [
    "## Back Projection"
   ]
  },
  {
   "cell_type": "code",
   "execution_count": 11,
   "metadata": {},
   "outputs": [
    {
     "data": {
      "image/png": "[encoded data removed]",
      "text/plain": [
       "<Figure size 432x288 with 2 Axes>"
      ]
     },
     "metadata": {
      "needs_background": "light"
     },
     "output_type": "display_data"
    }
   ],
   "source": [
    "# draw our filter\n",
    "angle_ticks = 60\n",
    "radius_ticks = 200\n",
    "filter_length = radius_ticks\n",
    "cutoff_freq = 0.4\n",
    "\n",
    "def filt_func(x):\n",
    "    return (cutoff_freq ** 2) * (2.0 * np.sinc(2.0 * x * cutoff_freq) - np.sinc(x * cutoff_freq) ** 2)\n",
    "\n",
    "x = np.arange(-filter_length, filter_length)\n",
    "d_filt = filt_func(x) # discrete filter\n",
    "d_filt_fft = np.abs(np.fft.fft(d_filt))\n",
    "plt.subplot(211)\n",
    "plt.title('Discrete Filter')\n",
    "plt.plot(x, d_filt)\n",
    "plt.subplot(212)\n",
    "plt.title('Frequency Response')\n",
    "plt.plot(x, np.fft.fftshift(d_filt_fft))\n",
    "plt.tight_layout()\n",
    "plt.show()"
   ]
  },
  {
   "cell_type": "code",
   "execution_count": 22,
   "metadata": {},
   "outputs": [
    {
     "name": "stdout",
     "output_type": "stream",
     "text": [
      "running reconstruction...\n",
      "1/300 2/300 3/300 4/300 5/300 6/300 7/300 8/300 9/300 10/300 11/300 12/300 13/300 14/300 15/300 16/300 17/300 18/300 19/300 20/300 21/300 22/300 23/300 24/300 25/300 26/300 27/300 28/300 29/300 30/300 31/300 32/300 33/300 34/300 35/300 36/300 37/300 38/300 39/300 40/300 41/300 42/300 43/300 44/300 45/300 46/300 47/300 48/300 49/300 50/300 51/300 52/300 53/300 54/300 55/300 56/300 57/300 58/300 59/300 60/300 61/300 62/300 63/300 64/300 65/300 66/300 67/300 68/300 69/300 70/300 71/300 72/300 73/300 74/300 75/300 76/300 77/300 78/300 79/300 80/300 81/300 82/300 83/300 84/300 85/300 86/300 87/300 88/300 89/300 90/300 91/300 92/300 93/300 94/300 95/300 96/300 97/300 98/300 99/300 100/300 101/300 102/300 103/300 104/300 105/300 106/300 107/300 108/300 109/300 110/300 111/300 112/300 113/300 114/300 115/300 116/300 117/300 118/300 119/300 120/300 121/300 122/300 123/300 124/300 125/300 126/300 127/300 128/300 129/300 130/300 131/300 132/300 133/300 134/300 135/300 136/300 137/300 138/300 139/300 140/300 141/300 142/300 143/300 144/300 145/300 146/300 147/300 148/300 149/300 150/300 151/300 152/300 153/300 154/300 155/300 156/300 157/300 158/300 159/300 160/300 161/300 162/300 163/300 164/300 165/300 166/300 167/300 168/300 169/300 170/300 171/300 172/300 173/300 174/300 175/300 176/300 177/300 178/300 179/300 180/300 181/300 182/300 183/300 184/300 185/300 186/300 187/300 188/300 189/300 190/300 191/300 192/300 193/300 194/300 195/300 196/300 197/300 198/300 199/300 200/300 201/300 202/300 203/300 204/300 205/300 206/300 207/300 208/300 209/300 210/300 211/300 212/300 213/300 214/300 215/300 216/300 217/300 218/300 219/300 220/300 221/300 222/300 223/300 224/300 225/300 226/300 227/300 228/300 229/300 230/300 231/300 232/300 233/300 234/300 235/300 236/300 237/300 238/300 239/300 240/300 241/300 242/300 243/300 244/300 245/300 246/300 247/300 248/300 249/300 250/300 251/300 252/300 253/300 254/300 255/300 256/300 257/300 258/300 259/300 260/300 261/300 262/300 263/300 264/300 265/300 266/300 267/300 268/300 269/300 270/300 271/300 272/300 273/300 274/300 275/300 276/300 277/300 278/300 279/300 280/300 281/300 282/300 283/300 284/300 285/300 286/300 287/300 288/300 289/300 290/300 291/300 292/300 293/300 294/300 295/300 296/300 297/300 298/300 299/300 300/300 fin "
     ]
    }
   ],
   "source": [
    "# reconstruct each slice\n",
    "cbp_angles = np.linspace(0.0, np.pi, angle_ticks)\n",
    "cbp_radius = np.linspace(-1.0, 1.0, radius_ticks)\n",
    "x_range = np.linspace(-1.0, 0.6, 75)\n",
    "y_range = np.linspace(-0.6, 0.3, 50)\n",
    "\n",
    "recons = []\n",
    "\n",
    "conv_ticks = np.arange(radius_ticks + d_filt.size - 1).astype(np.float) - 1.5 * radius_ticks\n",
    "conv_ticks = conv_ticks.astype(np.float) / radius_ticks * 2.0\n",
    "\n",
    "# save all parameters for parallel reconstruction\n",
    "recon_param = {\n",
    "    'radon_slices': radon_slices,\n",
    "    'cbp_angles': cbp_angles,\n",
    "    'cbp_radius' : cbp_radius,\n",
    "    'conv_ticks' : conv_ticks,\n",
    "    'x_range' : x_range,\n",
    "    'y_range' : y_range,\n",
    "    'd_filt' : d_filt,\n",
    "    'n_tasks' : 10 # how many parallel processes\n",
    "}\n",
    "\n",
    "with open('recon_params.pickle', 'wb') as outfile:\n",
    "    pickle.dump(recon_param, outfile)\n",
    "    \n",
    "print('running reconstruction...')\n",
    "\n",
    "# run reconstruction\n",
    "p = subprocess.Popen([sys.executable, 'recon_parallel.py'], stdout=subprocess.PIPE, stderr=subprocess.PIPE)\n",
    "\n",
    "while True:\n",
    "    line = p.stdout.readline()\n",
    "    if not line:\n",
    "        break\n",
    "    line = line.decode('utf8').strip()\n",
    "    print(line, end=' ', flush=True)\n",
    "\n",
    "p.communicate()\n",
    "assert p.returncode == 0"
   ]
  },
  {
   "cell_type": "code",
   "execution_count": 23,
   "metadata": {},
   "outputs": [
    {
     "name": "stdout",
     "output_type": "stream",
     "text": [
      "ffmpeg version 4.2.4-1ubuntu0.1 Copyright (c) 2000-2020 the FFmpeg developers\n",
      "  built with gcc 9 (Ubuntu 9.3.0-10ubuntu2)\n",
      "  configuration: --prefix=/usr --extra-version=1ubuntu0.1 --toolchain=hardened --libdir=/usr/lib/x86_64-linux-gnu --incdir=/usr/include/x86_64-linux-gnu --arch=amd64 --enable-gpl --disable-stripping --enable-avresample --disable-filter=resample --enable-avisynth --enable-gnutls --enable-ladspa --enable-libaom --enable-libass --enable-libbluray --enable-libbs2b --enable-libcaca --enable-libcdio --enable-libcodec2 --enable-libflite --enable-libfontconfig --enable-libfreetype --enable-libfribidi --enable-libgme --enable-libgsm --enable-libjack --enable-libmp3lame --enable-libmysofa --enable-libopenjpeg --enable-libopenmpt --enable-libopus --enable-libpulse --enable-librsvg --enable-librubberband --enable-libshine --enable-libsnappy --enable-libsoxr --enable-libspeex --enable-libssh --enable-libtheora --enable-libtwolame --enable-libvidstab --enable-libvorbis --enable-libvpx --enable-libwavpack --enable-libwebp --enable-libx265 --enable-libxml2 --enable-libxvid --enable-libzmq --enable-libzvbi --enable-lv2 --enable-omx --enable-openal --enable-opencl --enable-opengl --enable-sdl2 --enable-libdc1394 --enable-libdrm --enable-libiec61883 --enable-nvenc --enable-chromaprint --enable-frei0r --enable-libx264 --enable-shared\n",
      "  libavutil      56. 31.100 / 56. 31.100\n",
      "  libavcodec     58. 54.100 / 58. 54.100\n",
      "  libavformat    58. 29.100 / 58. 29.100\n",
      "  libavdevice    58.  8.100 / 58.  8.100\n",
      "  libavfilter     7. 57.100 /  7. 57.100\n",
      "  libavresample   4.  0.  0 /  4.  0.  0\n",
      "  libswscale      5.  5.100 /  5.  5.100\n",
      "  libswresample   3.  5.100 /  3.  5.100\n",
      "  libpostproc    55.  5.100 / 55.  5.100\n",
      "Input #0, rawvideo, from 'pipe:':\n",
      "  Duration: N/A, start: 0.000000, bitrate: 2700 kb/s\n",
      "    Stream #0:0: Video: rawvideo (RGB[24] / 0x18424752), rgb24, 50x75, 2700 kb/s, 30 tbr, 30 tbn, 30 tbc\n",
      "Stream mapping:\n",
      "  Stream #0:0 -> #0:0 (rawvideo (native) -> h264 (libx264))\n",
      "[swscaler @ 0x55fb4d1bcdc0] Warning: data is not aligned! This can lead to a speed loss\n",
      "[libx264 @ 0x55fb4d1aa500] using cpu capabilities: MMX2 SSE2Fast SSSE3 SSE4.2 AVX FMA3 BMI2 AVX2\n",
      "[libx264 @ 0x55fb4d1aa500] profile High 4:4:4 Predictive, level 1.0, 4:4:4 8-bit\n",
      "[libx264 @ 0x55fb4d1aa500] 264 - core 155 r2917 0a84d98 - H.264/MPEG-4 AVC codec - Copyleft 2003-2018 - http://www.videolan.org/x264.html - options: cabac=1 ref=3 deblock=1:0:0 analyse=0x1:0x111 me=hex subme=7 psy=1 psy_rd=1.00:0.00 mixed_ref=1 me_range=16 chroma_me=1 trellis=1 8x8dct=0 cqm=0 deadzone=21,11 fast_pskip=1 chroma_qp_offset=4 threads=2 lookahead_threads=1 sliced_threads=0 nr=0 decimate=1 interlaced=0 bluray_compat=0 constrained_intra=0 bframes=3 b_pyramid=2 b_adapt=1 b_bias=0 direct=1 weightb=1 open_gop=0 weightp=2 keyint=250 keyint_min=25 scenecut=40 intra_refresh=0 rc_lookahead=40 rc=crf mbtree=1 crf=20.0 qcomp=0.60 qpmin=0 qpmax=69 qpstep=4 ip_ratio=1.40 aq=1:1.00\n",
      "Output #0, mp4, to 'reconstruction.mp4':\n",
      "  Metadata:\n",
      "    encoder         : Lavf58.29.100\n",
      "    Stream #0:0: Video: h264 (libx264) (avc1 / 0x31637661), yuv444p, 50x75, q=-1--1, 30 fps, 15360 tbn, 30 tbc\n",
      "    Metadata:\n",
      "      encoder         : Lavc58.54.100 libx264\n",
      "    Side data:\n",
      "      cpb: bitrate max/min/avg: 0/0/0 buffer size: 0 vbv_delay: -1\n",
      "frame=  300 fps=0.0 q=-1.0 Lsize=      28kB time=00:00:09.90 bitrate=  22.9kbits/s speed= 205x    \n",
      "video:24kB audio:0kB subtitle:0kB other streams:0kB global headers:0kB muxing overhead: 16.611774%\n",
      "[libx264 @ 0x55fb4d1aa500] frame I:3     Avg QP: 8.08  size:    81\n",
      "[libx264 @ 0x55fb4d1aa500] frame P:120   Avg QP:18.08  size:   149\n",
      "[libx264 @ 0x55fb4d1aa500] frame B:177   Avg QP:17.27  size:    31\n",
      "[libx264 @ 0x55fb4d1aa500] consecutive B-frames: 20.0%  3.3%  2.0% 74.7%\n",
      "[libx264 @ 0x55fb4d1aa500] mb I  I16..4: 100.0%  0.0%  0.0%\n",
      "[libx264 @ 0x55fb4d1aa500] mb P  I16..4:  0.9%  0.0%  5.0%  P16..4: 25.7% 19.8% 10.8%  0.0%  0.0%    skip:37.8%\n",
      "[libx264 @ 0x55fb4d1aa500] mb B  I16..4:  0.1%  0.0%  0.3%  B16..8: 23.2%  5.6%  0.8%  direct: 1.0%  skip:68.8%  L0:40.6% L1:48.7% BI:10.7%\n",
      "[libx264 @ 0x55fb4d1aa500] coded y,u,v intra: 40.9% 0.0% 0.0% inter: 10.1% 0.0% 0.0%\n",
      "[libx264 @ 0x55fb4d1aa500] i16 v,h,dc,p: 59% 22% 19%  0%\n",
      "[libx264 @ 0x55fb4d1aa500] i4 v,h,dc,ddl,ddr,vr,hd,vl,hu:  5% 67% 17%  1%  2%  1%  2%  1%  3%\n",
      "[libx264 @ 0x55fb4d1aa500] Weighted P-Frames: Y:1.7% UV:0.0%\n",
      "[libx264 @ 0x55fb4d1aa500] ref P L0: 70.2% 13.7% 10.6%  5.4%\n",
      "[libx264 @ 0x55fb4d1aa500] ref B L0: 78.4% 14.9%  6.7%\n",
      "[libx264 @ 0x55fb4d1aa500] ref B L1: 91.6%  8.4%\n",
      "[libx264 @ 0x55fb4d1aa500] kb/s:18.88\n",
      "\n"
     ]
    }
   ],
   "source": [
    "# load the results back after the parallel reconstruction script finished\n",
    "with open('recon.pickle', 'rb') as infile:\n",
    "    recons = pickle.load(infile)\n",
    "    \n",
    "# standardize the reconstruction\n",
    "recons_np = np.asarray(recons)\n",
    "recons_min = np.min(recons_np)\n",
    "recons_max = np.max(recons_np)\n",
    "recons_range = recons_max - recons_min\n",
    "\n",
    "for i in range(len(recons)):\n",
    "    recons[i] = (recons[i] - recons_min) / recons_range\n",
    "    \n",
    "# save them to a video\n",
    "save_mp4_video(recons, 'reconstruction.mp4')"
   ]
  },
  {
   "cell_type": "code",
   "execution_count": 24,
   "metadata": {},
   "outputs": [
    {
     "data": {
      "image/png": "[encoded data removed]",
      "text/plain": [
       "<Figure size 432x288 with 1 Axes>"
      ]
     },
     "metadata": {
      "needs_background": "light"
     },
     "output_type": "display_data"
    }
   ],
   "source": [
    "plt.imshow(recons[150], cmap='gray')\n",
    "plt.show()"
   ]
  },
  {
   "cell_type": "code",
   "execution_count": null,
   "metadata": {},
   "outputs": [],
   "source": []
  }
 ],
 "metadata": {
  "kernelspec": {
   "display_name": "Python 3",
   "language": "python",
   "name": "python3"
  },
  "language_info": {
   "codemirror_mode": {
    "name": "ipython",
    "version": 3
   },
   "file_extension": ".py",
   "mimetype": "text/x-python",
   "name": "python",
   "nbconvert_exporter": "python",
   "pygments_lexer": "ipython3",
   "version": "3.8.3"
  }
 },
 "nbformat": 4,
 "nbformat_minor": 4
}
